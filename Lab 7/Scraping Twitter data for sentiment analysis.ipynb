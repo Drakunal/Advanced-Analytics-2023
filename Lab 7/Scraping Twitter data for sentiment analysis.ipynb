{
 "cells": [
  {
   "cell_type": "code",
   "execution_count": 33,
   "id": "7856067e",
   "metadata": {},
   "outputs": [],
   "source": [
    "#Requirements for Lab 7\n",
    "# pip install snscrape\n",
    "# pip install transformers\n",
    "# pip install scipy\n",
    "# Also install pytorch from its official site"
   ]
  },
  {
   "cell_type": "code",
   "execution_count": 34,
   "id": "9d49a28d",
   "metadata": {},
   "outputs": [],
   "source": [
    "import snscrape.modules.twitter as sntweet\n",
    "import pandas as pd"
   ]
  },
  {
   "cell_type": "code",
   "execution_count": 35,
   "id": "1bc54701",
   "metadata": {},
   "outputs": [],
   "source": [
    "query = \"(Covid) until:2021-01-01 since:2020-01-01\""
   ]
  },
  {
   "cell_type": "code",
   "execution_count": 36,
   "id": "ebbbb385",
   "metadata": {},
   "outputs": [],
   "source": [
    "tweets = []\n",
    "limit = 10"
   ]
  },
  {
   "cell_type": "code",
   "execution_count": 37,
   "id": "7bfcc95e",
   "metadata": {
    "scrolled": false
   },
   "outputs": [],
   "source": [
    "for tweet in sntweet.TwitterSearchScraper(query).get_items():\n",
    "#     print(vars(tweet))\n",
    "#     print(tweet.rawContent)\n",
    "#     print(tweet.date)\n",
    "#     print(tweet.user.username)   \n",
    "    if len(tweets) == limit:\n",
    "        break\n",
    "    else:\n",
    "        tweets.append([tweet.date,tweet.user.username,tweet.rawContent])    "
   ]
  },
  {
   "cell_type": "code",
   "execution_count": 38,
   "id": "1cbf5551",
   "metadata": {},
   "outputs": [
    {
     "data": {
      "text/plain": [
       "[[datetime.datetime(2020, 12, 31, 23, 59, 59, tzinfo=datetime.timezone.utc),\n",
       "  'skift',\n",
       "  'The Biggest Innovators in Travel and Hospitality: Covid Edition https://t.co/7DhyMP0Xb5'],\n",
       " [datetime.datetime(2020, 12, 31, 23, 59, 59, tzinfo=datetime.timezone.utc),\n",
       "  'iOptimizeRealty',\n",
       "  '4 Tips When Trying to Sublease Your Space During COVID-19 #CRE #Sublease #COVID-19 #NewNormal #TenantTips #CommercialRealEstate    \\nhttps://t.co/Va2NHct6Ki'],\n",
       " [datetime.datetime(2020, 12, 31, 23, 59, 59, tzinfo=datetime.timezone.utc),\n",
       "  'chiznoodle',\n",
       "  'Baru kali ini malem taun baruan gakemana mana gegara covid, biasanya ga kemana mana gegara ga ada duit. https://t.co/NDQvLTbyQg'],\n",
       " [datetime.datetime(2020, 12, 31, 23, 59, 59, tzinfo=datetime.timezone.utc),\n",
       "  'Vtpostnews',\n",
       "  'COVID-19 Works Its Way Inside The ESPN Broadcast Booth. Kirk Herbstreit Tests Positive, And Will Broadcast Playoff Game From His House. | https://t.co/SIi0ggX3jg'],\n",
       " [datetime.datetime(2020, 12, 31, 23, 59, 59, tzinfo=datetime.timezone.utc),\n",
       "  'ItsDukes_',\n",
       "  'Seen a massive party on someone’s Snapchat 🙃hope they get covid'],\n",
       " [datetime.datetime(2020, 12, 31, 23, 59, 59, tzinfo=datetime.timezone.utc),\n",
       "  'JLabuz',\n",
       "  '@patrickhuntt Damn we could’ve thrown a covid-only party'],\n",
       " [datetime.datetime(2020, 12, 31, 23, 59, 59, tzinfo=datetime.timezone.utc),\n",
       "  'Hlubikovaverca',\n",
       "  '#GrandCrossoverService \\n31. DECEMBER 2020, GLOBÁLNA NOVOROČNÁ BOHOSLUŽBA\\n#Covid \\n\\nhttps://t.co/otdPNHFj6b'],\n",
       " [datetime.datetime(2020, 12, 31, 23, 59, 58, tzinfo=datetime.timezone.utc),\n",
       "  'gary_robertson',\n",
       "  'My 2021 wishlist...\\n\\nGet the vulnerable vaccinated\\n\\nPull Nippy down a peg or two, full audit on Covid &amp; Brexit cash\\n\\nScrap the TV Tax\\n\\nDeclare BLM a terrorist organisation\\n\\nDisband the London Mayorship and appoint a Minister for London\\n\\nProtect statues and monuments https://t.co/u8q5mdv853'],\n",
       " [datetime.datetime(2020, 12, 31, 23, 59, 58, tzinfo=datetime.timezone.utc),\n",
       "  'tezzyxoxo',\n",
       "  '@DGoodremGeek @DeltaGoodrem March is my guess ❤️ but if tour gets postponed due to covid then I think album will'],\n",
       " [datetime.datetime(2020, 12, 31, 23, 59, 57, tzinfo=datetime.timezone.utc),\n",
       "  'LizBanks',\n",
       "  \"My mom has leukemia, and his mom has Covid-19.  Because that's fair, right? #fuck2020 https://t.co/6SBwurdlTl\"]]"
      ]
     },
     "execution_count": 38,
     "metadata": {},
     "output_type": "execute_result"
    }
   ],
   "source": [
    "tweets #is a list of lists, each element is containing date,username and tweet"
   ]
  },
  {
   "cell_type": "code",
   "execution_count": 39,
   "id": "88c93d37",
   "metadata": {},
   "outputs": [],
   "source": [
    "df = pd.DataFrame(tweets, columns=['Date','Username','Tweet'])"
   ]
  },
  {
   "cell_type": "code",
   "execution_count": 40,
   "id": "740b7406",
   "metadata": {},
   "outputs": [
    {
     "data": {
      "text/html": [
       "<div>\n",
       "<style scoped>\n",
       "    .dataframe tbody tr th:only-of-type {\n",
       "        vertical-align: middle;\n",
       "    }\n",
       "\n",
       "    .dataframe tbody tr th {\n",
       "        vertical-align: top;\n",
       "    }\n",
       "\n",
       "    .dataframe thead th {\n",
       "        text-align: right;\n",
       "    }\n",
       "</style>\n",
       "<table border=\"1\" class=\"dataframe\">\n",
       "  <thead>\n",
       "    <tr style=\"text-align: right;\">\n",
       "      <th></th>\n",
       "      <th>Date</th>\n",
       "      <th>Username</th>\n",
       "      <th>Tweet</th>\n",
       "    </tr>\n",
       "  </thead>\n",
       "  <tbody>\n",
       "    <tr>\n",
       "      <th>0</th>\n",
       "      <td>2020-12-31 23:59:59+00:00</td>\n",
       "      <td>skift</td>\n",
       "      <td>The Biggest Innovators in Travel and Hospitali...</td>\n",
       "    </tr>\n",
       "    <tr>\n",
       "      <th>1</th>\n",
       "      <td>2020-12-31 23:59:59+00:00</td>\n",
       "      <td>iOptimizeRealty</td>\n",
       "      <td>4 Tips When Trying to Sublease Your Space Duri...</td>\n",
       "    </tr>\n",
       "    <tr>\n",
       "      <th>2</th>\n",
       "      <td>2020-12-31 23:59:59+00:00</td>\n",
       "      <td>chiznoodle</td>\n",
       "      <td>Baru kali ini malem taun baruan gakemana mana ...</td>\n",
       "    </tr>\n",
       "    <tr>\n",
       "      <th>3</th>\n",
       "      <td>2020-12-31 23:59:59+00:00</td>\n",
       "      <td>Vtpostnews</td>\n",
       "      <td>COVID-19 Works Its Way Inside The ESPN Broadca...</td>\n",
       "    </tr>\n",
       "    <tr>\n",
       "      <th>4</th>\n",
       "      <td>2020-12-31 23:59:59+00:00</td>\n",
       "      <td>ItsDukes_</td>\n",
       "      <td>Seen a massive party on someone’s Snapchat 🙃ho...</td>\n",
       "    </tr>\n",
       "    <tr>\n",
       "      <th>5</th>\n",
       "      <td>2020-12-31 23:59:59+00:00</td>\n",
       "      <td>JLabuz</td>\n",
       "      <td>@patrickhuntt Damn we could’ve thrown a covid-...</td>\n",
       "    </tr>\n",
       "    <tr>\n",
       "      <th>6</th>\n",
       "      <td>2020-12-31 23:59:59+00:00</td>\n",
       "      <td>Hlubikovaverca</td>\n",
       "      <td>#GrandCrossoverService \\n31. DECEMBER 2020, GL...</td>\n",
       "    </tr>\n",
       "    <tr>\n",
       "      <th>7</th>\n",
       "      <td>2020-12-31 23:59:58+00:00</td>\n",
       "      <td>gary_robertson</td>\n",
       "      <td>My 2021 wishlist...\\n\\nGet the vulnerable vacc...</td>\n",
       "    </tr>\n",
       "    <tr>\n",
       "      <th>8</th>\n",
       "      <td>2020-12-31 23:59:58+00:00</td>\n",
       "      <td>tezzyxoxo</td>\n",
       "      <td>@DGoodremGeek @DeltaGoodrem March is my guess ...</td>\n",
       "    </tr>\n",
       "    <tr>\n",
       "      <th>9</th>\n",
       "      <td>2020-12-31 23:59:57+00:00</td>\n",
       "      <td>LizBanks</td>\n",
       "      <td>My mom has leukemia, and his mom has Covid-19....</td>\n",
       "    </tr>\n",
       "  </tbody>\n",
       "</table>\n",
       "</div>"
      ],
      "text/plain": [
       "                       Date         Username  \\\n",
       "0 2020-12-31 23:59:59+00:00            skift   \n",
       "1 2020-12-31 23:59:59+00:00  iOptimizeRealty   \n",
       "2 2020-12-31 23:59:59+00:00       chiznoodle   \n",
       "3 2020-12-31 23:59:59+00:00       Vtpostnews   \n",
       "4 2020-12-31 23:59:59+00:00        ItsDukes_   \n",
       "5 2020-12-31 23:59:59+00:00           JLabuz   \n",
       "6 2020-12-31 23:59:59+00:00   Hlubikovaverca   \n",
       "7 2020-12-31 23:59:58+00:00   gary_robertson   \n",
       "8 2020-12-31 23:59:58+00:00        tezzyxoxo   \n",
       "9 2020-12-31 23:59:57+00:00         LizBanks   \n",
       "\n",
       "                                               Tweet  \n",
       "0  The Biggest Innovators in Travel and Hospitali...  \n",
       "1  4 Tips When Trying to Sublease Your Space Duri...  \n",
       "2  Baru kali ini malem taun baruan gakemana mana ...  \n",
       "3  COVID-19 Works Its Way Inside The ESPN Broadca...  \n",
       "4  Seen a massive party on someone’s Snapchat 🙃ho...  \n",
       "5  @patrickhuntt Damn we could’ve thrown a covid-...  \n",
       "6  #GrandCrossoverService \\n31. DECEMBER 2020, GL...  \n",
       "7  My 2021 wishlist...\\n\\nGet the vulnerable vacc...  \n",
       "8  @DGoodremGeek @DeltaGoodrem March is my guess ...  \n",
       "9  My mom has leukemia, and his mom has Covid-19....  "
      ]
     },
     "execution_count": 40,
     "metadata": {},
     "output_type": "execute_result"
    }
   ],
   "source": [
    "df"
   ]
  },
  {
   "cell_type": "code",
   "execution_count": 41,
   "id": "5c38f373",
   "metadata": {},
   "outputs": [],
   "source": [
    "df.to_csv('tweets.csv')"
   ]
  },
  {
   "cell_type": "code",
   "execution_count": null,
   "id": "c6f81f45",
   "metadata": {},
   "outputs": [],
   "source": []
  }
 ],
 "metadata": {
  "kernelspec": {
   "display_name": "Python 3 (ipykernel)",
   "language": "python",
   "name": "python3"
  },
  "language_info": {
   "codemirror_mode": {
    "name": "ipython",
    "version": 3
   },
   "file_extension": ".py",
   "mimetype": "text/x-python",
   "name": "python",
   "nbconvert_exporter": "python",
   "pygments_lexer": "ipython3",
   "version": "3.10.10"
  }
 },
 "nbformat": 4,
 "nbformat_minor": 5
}
