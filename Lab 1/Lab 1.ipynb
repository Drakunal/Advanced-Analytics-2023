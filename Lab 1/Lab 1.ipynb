{
 "cells": [
  {
   "cell_type": "code",
   "execution_count": 2,
   "id": "11a65850",
   "metadata": {},
   "outputs": [],
   "source": [
    "#importing the libraries\n",
    "import requests\n",
    "import json"
   ]
  },
  {
   "cell_type": "code",
   "execution_count": 3,
   "id": "76104bcb",
   "metadata": {},
   "outputs": [],
   "source": [
    "#api endpoint with city name\n",
    "url = 'https://api.openweathermap.org/data/2.5/weather?q=Bangalore&appid=api_key'"
   ]
  },
  {
   "cell_type": "code",
   "execution_count": 4,
   "id": "e4d44d0b",
   "metadata": {},
   "outputs": [],
   "source": [
    "#get request to get a response from the server\n",
    "response =  requests.get(url)"
   ]
  },
  {
   "cell_type": "code",
   "execution_count": 5,
   "id": "e6c5d41f",
   "metadata": {},
   "outputs": [
    {
     "data": {
      "text/plain": [
       "200"
      ]
     },
     "execution_count": 5,
     "metadata": {},
     "output_type": "execute_result"
    }
   ],
   "source": [
    "response.status_code"
   ]
  },
  {
   "cell_type": "code",
   "execution_count": 6,
   "id": "dfebe0b1",
   "metadata": {},
   "outputs": [],
   "source": [
    "#extracting only the json data from the response object\n",
    "data = response.json()"
   ]
  },
  {
   "cell_type": "code",
   "execution_count": 7,
   "id": "cb5b5853",
   "metadata": {},
   "outputs": [
    {
     "data": {
      "text/plain": [
       "{'coord': {'lon': 77.6033, 'lat': 12.9762},\n",
       " 'weather': [{'id': 802,\n",
       "   'main': 'Clouds',\n",
       "   'description': 'scattered clouds',\n",
       "   'icon': '03n'}],\n",
       " 'base': 'stations',\n",
       " 'main': {'temp': 292.95,\n",
       "  'feels_like': 292.27,\n",
       "  'temp_min': 292.95,\n",
       "  'temp_max': 293.05,\n",
       "  'pressure': 1017,\n",
       "  'humidity': 49},\n",
       " 'visibility': 6000,\n",
       " 'wind': {'speed': 3.09, 'deg': 100},\n",
       " 'clouds': {'all': 48},\n",
       " 'dt': 1673537195,\n",
       " 'sys': {'type': 1,\n",
       "  'id': 9205,\n",
       "  'country': 'IN',\n",
       "  'sunrise': 1673486090,\n",
       "  'sunset': 1673527202},\n",
       " 'timezone': 19800,\n",
       " 'id': 1277333,\n",
       " 'name': 'Bengaluru',\n",
       " 'cod': 200}"
      ]
     },
     "execution_count": 7,
     "metadata": {},
     "output_type": "execute_result"
    }
   ],
   "source": [
    "data"
   ]
  },
  {
   "cell_type": "code",
   "execution_count": 8,
   "id": "b90d52b4",
   "metadata": {},
   "outputs": [
    {
     "data": {
      "text/plain": [
       "'stations'"
      ]
     },
     "execution_count": 8,
     "metadata": {},
     "output_type": "execute_result"
    }
   ],
   "source": [
    "#accessing the json elements like a dictionary\n",
    "data['base']"
   ]
  },
  {
   "cell_type": "code",
   "execution_count": 9,
   "id": "12850a21",
   "metadata": {},
   "outputs": [
    {
     "data": {
      "text/plain": [
       "'Clouds'"
      ]
     },
     "execution_count": 9,
     "metadata": {},
     "output_type": "execute_result"
    }
   ],
   "source": [
    "data['weather'][0]['main']"
   ]
  },
  {
   "cell_type": "code",
   "execution_count": 10,
   "id": "9e7871fd",
   "metadata": {},
   "outputs": [
    {
     "data": {
      "text/plain": [
       "20"
      ]
     },
     "execution_count": 10,
     "metadata": {},
     "output_type": "execute_result"
    }
   ],
   "source": [
    "round(data['main']['temp'] - 273.15)"
   ]
  },
  {
   "cell_type": "code",
   "execution_count": 5,
   "id": "43f4341b",
   "metadata": {
    "scrolled": true
   },
   "outputs": [
    {
     "name": "stdout",
     "output_type": "stream",
     "text": [
      "Enter the city name: Bengaluru\n",
      "Enter the correct city please\n"
     ]
    }
   ],
   "source": [
    "#taking user input to show the weather details of any city\n",
    "city_name = input('Enter the city name: ')\n",
    "url2 = 'https://api.openweathermap.org/data/2.5/weather?q='+city_name+'&appid=api_key'\n",
    "response2 =  requests.get(url2)\n",
    "data2 = response2.json()\n",
    "if response2.status_code == 200:\n",
    "    print('Weather: ',data2['weather'][0]['main'])\n",
    "    print('City: ',data2['name'])\n",
    "    print('Temperature: ',round(data2['main']['temp'] - 273.15))\n",
    "else:\n",
    "    print(\"Enter the correct city please\")"
   ]
  },
  {
   "cell_type": "code",
   "execution_count": 7,
   "id": "20ffe616",
   "metadata": {},
   "outputs": [],
   "source": [
    "from dotenv import load_dotenv\n",
    "import os"
   ]
  },
  {
   "cell_type": "code",
   "execution_count": 9,
   "id": "d34b2fe8",
   "metadata": {},
   "outputs": [],
   "source": [
    "load_dotenv()\n",
    "API_KEY = os.getenv('API_KEY')"
   ]
  },
  {
   "cell_type": "code",
   "execution_count": 10,
   "id": "f8e19b00",
   "metadata": {},
   "outputs": [
    {
     "name": "stdout",
     "output_type": "stream",
     "text": [
      "Enter the city name: Jaipur\n",
      "Weather:  Fog\n",
      "City:  Jaipur\n",
      "Temperature:  15\n"
     ]
    }
   ],
   "source": [
    "#taking user input to show the weather details of any city\n",
    "city_name = input('Enter the city name: ')\n",
    "url2 = 'https://api.openweathermap.org/data/2.5/weather?q='+city_name+'&appid='+API_KEY\n",
    "response2 =  requests.get(url2)\n",
    "data2 = response2.json()\n",
    "if response2.status_code == 200:\n",
    "    print('Weather: ',data2['weather'][0]['main'])\n",
    "    print('City: ',data2['name'])\n",
    "    print('Temperature: ',round(data2['main']['temp'] - 273.15))\n",
    "else:\n",
    "    print(\"Enter the correct city please\")"
   ]
  },
  {
   "cell_type": "code",
   "execution_count": null,
   "id": "3a2e904b",
   "metadata": {},
   "outputs": [],
   "source": []
  }
 ],
 "metadata": {
  "kernelspec": {
   "display_name": "Python 3 (ipykernel)",
   "language": "python",
   "name": "python3"
  },
  "language_info": {
   "codemirror_mode": {
    "name": "ipython",
    "version": 3
   },
   "file_extension": ".py",
   "mimetype": "text/x-python",
   "name": "python",
   "nbconvert_exporter": "python",
   "pygments_lexer": "ipython3",
   "version": "3.10.9"
  }
 },
 "nbformat": 4,
 "nbformat_minor": 5
}
